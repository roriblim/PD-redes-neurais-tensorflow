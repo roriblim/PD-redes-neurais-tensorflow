{
 "cells": [
  {
   "cell_type": "markdown",
   "id": "6aa1fa5d",
   "metadata": {},
   "source": [
    "## Previsão de insatisfação de cliente em compras de e-commerce a fim de permitir ações proativas de forma preventiva\n",
    " - Projeto de Disciplina - Redes neurais com TensorFlow [25E3_2]\n",
    " - Aluna: Rosana Ribeiro Lima\n",
    " - Dataset: https://www.kaggle.com/datasets/olistbr/brazilian-ecommerce?select=olist_orders_dataset.csv"
   ]
  },
  {
   "cell_type": "markdown",
   "id": "a712ebcf",
   "metadata": {},
   "source": [
    "\n",
    "-------------------------------\n",
    "### Pitch de negócio\n",
    "\n",
    "##### Problema:\n",
    "\n",
    "Com frequência, empresas de e-commerce perdem a fidelização de clientes em razão de instatisfação, seja por atrasos, falhas na entrega, e outros motivos. Isso gera inevitavelmente perdas na receita da empresa, além de impactar a imagem que as pessoas tem sobre a confiabilidade da instituição. \n",
    "\n",
    "Saber prever a insatisfação do cliente (que pode ser identificada por avaliações negativas) com base em dados do pedido antes da entrega ser finalizada poderia permitir ações proativas, como envio de brindes pelos vendedores, antecipação de problemas ou melhoria logística, no caso de atrasos.\n",
    "\n",
    "##### Solução proposta:\n",
    "\n",
    "A solução proposta visa analisar o dataset em questão e utilizá-lo como base para criar um modelo de redes neurais que permita identificar as principais causas que possam ser identificadas previamente como motivo para eventuais avaliações ruins de um pedido.\n",
    "\n",
    "Além disso, caso seja identificado que o atraso na entrega tem um peso importante na avaliação ruim do pedido, a solução se propõe a identificar eventuais features que possam impactar nesse atraso, a fim de que medidas preventivas de logísticas possam ser tomadas pela empresa."
   ]
  },
  {
   "cell_type": "markdown",
   "id": "1efebdce",
   "metadata": {},
   "source": [
    "--------------------\n",
    "### Features propostas\n",
    "\n",
    "Com base no cruzamento de dados das tabelas disponíveis no dataset em questão, as features propostas para utilização são:\n",
    "\n",
    "- payment_type\n",
    "- payment_value\n",
    "- estado_do_comprador\n",
    "- estado_do_vendedor\n",
    "- tamanho_da_descricao_do_produto (número de caracteres)\n",
    "- categoria_do_produto\n",
    "- número_de_fotos_do_produto\n",
    "- peso_do_produto\n",
    "- altura_do_produto\n",
    "- dia da compra\n",
    "- tempo da compra até a aprovacao do pagamento\n",
    "- tempo da confirmacao da compra até a entrega\n",
    "- diferenca entre tempo previsto para a entrega e tempo real de entrega\n",
    "- quantidade de itens no pedido\n"
   ]
  },
  {
   "cell_type": "code",
   "execution_count": 1,
   "id": "943ddcec",
   "metadata": {},
   "outputs": [],
   "source": [
    "import os\n",
    "import pandas as pd\n",
    "\n",
    "path = \"../data/\"\n",
    "# df = pd.read_csv(os.path.join(path, \"synthetic_asthma_dataset.csv\"))\n",
    "# df.head(20)"
   ]
  },
  {
   "cell_type": "markdown",
   "id": "8753ad49",
   "metadata": {},
   "source": [
    "### 2. Descrição e análise das variáveis - **COMPREENSÃO DOS DADOS**\n"
   ]
  },
  {
   "cell_type": "markdown",
   "id": "27417481",
   "metadata": {},
   "source": [
    "#### 2.1 Descrevendo as variáveis e os tipos"
   ]
  },
  {
   "cell_type": "markdown",
   "id": "1c8b4449",
   "metadata": {},
   "source": [
    "Vamos primeiro fazer algumas análises dos dados:"
   ]
  },
  {
   "cell_type": "code",
   "execution_count": 2,
   "id": "70e5b5b8",
   "metadata": {},
   "outputs": [],
   "source": [
    "# df.info()"
   ]
  },
  {
   "cell_type": "code",
   "execution_count": 3,
   "id": "de9178c0",
   "metadata": {},
   "outputs": [],
   "source": [
    "# df_filtered['Asthma_Status'].value_counts()"
   ]
  },
  {
   "cell_type": "markdown",
   "id": "ea3ded31",
   "metadata": {},
   "source": [
    "## Referências\n",
    "\n",
    "- OLIST. Brazilian E-Commerce Public Dataset by Olist. Kaggle, 2018. Disponível em: https://www.kaggle.com/datasets/olistbr/brazilian-ecommerce. Acesso em: 31 jul. 2025."
   ]
  }
 ],
 "metadata": {
  "kernelspec": {
   "display_name": "PD_env_redes_neurais",
   "language": "python",
   "name": "python3"
  },
  "language_info": {
   "codemirror_mode": {
    "name": "ipython",
    "version": 3
   },
   "file_extension": ".py",
   "mimetype": "text/x-python",
   "name": "python",
   "nbconvert_exporter": "python",
   "pygments_lexer": "ipython3",
   "version": "3.11.13"
  }
 },
 "nbformat": 4,
 "nbformat_minor": 5
}
